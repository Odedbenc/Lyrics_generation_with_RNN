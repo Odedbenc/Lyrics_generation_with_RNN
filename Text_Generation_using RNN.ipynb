{
 "cells": [
  {
   "cell_type": "markdown",
   "metadata": {
    "id": "88X5OhoAJEJh"
   },
   "source": [
    "# RNN for text generation - Oded Ben Chetrit\n"
   ]
  },
  {
   "cell_type": "markdown",
   "metadata": {
    "id": "Yh_aPOY6JEJz"
   },
   "source": [
    "In this project, I generate lyrics to songs using a character-level RNN-based language model.\n"
   ]
  },
  {
   "cell_type": "code",
   "execution_count": 2,
   "metadata": {
    "colab": {
     "base_uri": "https://localhost:8080/"
    },
    "id": "9XADyAVlqc_g",
    "outputId": "6eddfe17-b347-4213-8902-83aa92f12598"
   },
   "outputs": [
    {
     "name": "stdout",
     "output_type": "stream",
     "text": [
      "Collecting langdetect\n",
      "  Downloading langdetect-1.0.9.tar.gz (981 kB)\n",
      "\u001b[?25l\r",
      "\u001b[K     |▍                               | 10 kB 34.2 MB/s eta 0:00:01\r",
      "\u001b[K     |▊                               | 20 kB 39.3 MB/s eta 0:00:01\r",
      "\u001b[K     |█                               | 30 kB 43.0 MB/s eta 0:00:01\r",
      "\u001b[K     |█▍                              | 40 kB 30.5 MB/s eta 0:00:01\r",
      "\u001b[K     |█▊                              | 51 kB 22.2 MB/s eta 0:00:01\r",
      "\u001b[K     |██                              | 61 kB 24.7 MB/s eta 0:00:01\r",
      "\u001b[K     |██▍                             | 71 kB 26.5 MB/s eta 0:00:01\r",
      "\u001b[K     |██▊                             | 81 kB 26.9 MB/s eta 0:00:01\r",
      "\u001b[K     |███                             | 92 kB 28.6 MB/s eta 0:00:01\r",
      "\u001b[K     |███▍                            | 102 kB 30.4 MB/s eta 0:00:01\r",
      "\u001b[K     |███▊                            | 112 kB 30.4 MB/s eta 0:00:01\r",
      "\u001b[K     |████                            | 122 kB 30.4 MB/s eta 0:00:01\r",
      "\u001b[K     |████▍                           | 133 kB 30.4 MB/s eta 0:00:01\r",
      "\u001b[K     |████▊                           | 143 kB 30.4 MB/s eta 0:00:01\r",
      "\u001b[K     |█████                           | 153 kB 30.4 MB/s eta 0:00:01\r",
      "\u001b[K     |█████▍                          | 163 kB 30.4 MB/s eta 0:00:01\r",
      "\u001b[K     |█████▊                          | 174 kB 30.4 MB/s eta 0:00:01\r",
      "\u001b[K     |██████                          | 184 kB 30.4 MB/s eta 0:00:01\r",
      "\u001b[K     |██████▍                         | 194 kB 30.4 MB/s eta 0:00:01\r",
      "\u001b[K     |██████▊                         | 204 kB 30.4 MB/s eta 0:00:01\r",
      "\u001b[K     |███████                         | 215 kB 30.4 MB/s eta 0:00:01\r",
      "\u001b[K     |███████▍                        | 225 kB 30.4 MB/s eta 0:00:01\r",
      "\u001b[K     |███████▊                        | 235 kB 30.4 MB/s eta 0:00:01\r",
      "\u001b[K     |████████                        | 245 kB 30.4 MB/s eta 0:00:01\r",
      "\u001b[K     |████████▍                       | 256 kB 30.4 MB/s eta 0:00:01\r",
      "\u001b[K     |████████▊                       | 266 kB 30.4 MB/s eta 0:00:01\r",
      "\u001b[K     |█████████                       | 276 kB 30.4 MB/s eta 0:00:01\r",
      "\u001b[K     |█████████▍                      | 286 kB 30.4 MB/s eta 0:00:01\r",
      "\u001b[K     |█████████▊                      | 296 kB 30.4 MB/s eta 0:00:01\r",
      "\u001b[K     |██████████                      | 307 kB 30.4 MB/s eta 0:00:01\r",
      "\u001b[K     |██████████▍                     | 317 kB 30.4 MB/s eta 0:00:01\r",
      "\u001b[K     |██████████▊                     | 327 kB 30.4 MB/s eta 0:00:01\r",
      "\u001b[K     |███████████                     | 337 kB 30.4 MB/s eta 0:00:01\r",
      "\u001b[K     |███████████▍                    | 348 kB 30.4 MB/s eta 0:00:01\r",
      "\u001b[K     |███████████▊                    | 358 kB 30.4 MB/s eta 0:00:01\r",
      "\u001b[K     |████████████                    | 368 kB 30.4 MB/s eta 0:00:01\r",
      "\u001b[K     |████████████▍                   | 378 kB 30.4 MB/s eta 0:00:01\r",
      "\u001b[K     |████████████▊                   | 389 kB 30.4 MB/s eta 0:00:01\r",
      "\u001b[K     |█████████████                   | 399 kB 30.4 MB/s eta 0:00:01\r",
      "\u001b[K     |█████████████▍                  | 409 kB 30.4 MB/s eta 0:00:01\r",
      "\u001b[K     |█████████████▊                  | 419 kB 30.4 MB/s eta 0:00:01\r",
      "\u001b[K     |██████████████                  | 430 kB 30.4 MB/s eta 0:00:01\r",
      "\u001b[K     |██████████████▍                 | 440 kB 30.4 MB/s eta 0:00:01\r",
      "\u001b[K     |██████████████▊                 | 450 kB 30.4 MB/s eta 0:00:01\r",
      "\u001b[K     |███████████████                 | 460 kB 30.4 MB/s eta 0:00:01\r",
      "\u001b[K     |███████████████▍                | 471 kB 30.4 MB/s eta 0:00:01\r",
      "\u001b[K     |███████████████▊                | 481 kB 30.4 MB/s eta 0:00:01\r",
      "\u001b[K     |████████████████                | 491 kB 30.4 MB/s eta 0:00:01\r",
      "\u001b[K     |████████████████▍               | 501 kB 30.4 MB/s eta 0:00:01\r",
      "\u001b[K     |████████████████▊               | 512 kB 30.4 MB/s eta 0:00:01\r",
      "\u001b[K     |█████████████████               | 522 kB 30.4 MB/s eta 0:00:01\r",
      "\u001b[K     |█████████████████▍              | 532 kB 30.4 MB/s eta 0:00:01\r",
      "\u001b[K     |█████████████████▊              | 542 kB 30.4 MB/s eta 0:00:01\r",
      "\u001b[K     |██████████████████              | 552 kB 30.4 MB/s eta 0:00:01\r",
      "\u001b[K     |██████████████████▍             | 563 kB 30.4 MB/s eta 0:00:01\r",
      "\u001b[K     |██████████████████▊             | 573 kB 30.4 MB/s eta 0:00:01\r",
      "\u001b[K     |███████████████████             | 583 kB 30.4 MB/s eta 0:00:01\r",
      "\u001b[K     |███████████████████▍            | 593 kB 30.4 MB/s eta 0:00:01\r",
      "\u001b[K     |███████████████████▊            | 604 kB 30.4 MB/s eta 0:00:01\r",
      "\u001b[K     |████████████████████            | 614 kB 30.4 MB/s eta 0:00:01\r",
      "\u001b[K     |████████████████████▍           | 624 kB 30.4 MB/s eta 0:00:01\r",
      "\u001b[K     |████████████████████▊           | 634 kB 30.4 MB/s eta 0:00:01\r",
      "\u001b[K     |█████████████████████           | 645 kB 30.4 MB/s eta 0:00:01\r",
      "\u001b[K     |█████████████████████▍          | 655 kB 30.4 MB/s eta 0:00:01\r",
      "\u001b[K     |█████████████████████▊          | 665 kB 30.4 MB/s eta 0:00:01\r",
      "\u001b[K     |██████████████████████          | 675 kB 30.4 MB/s eta 0:00:01\r",
      "\u001b[K     |██████████████████████▍         | 686 kB 30.4 MB/s eta 0:00:01\r",
      "\u001b[K     |██████████████████████▊         | 696 kB 30.4 MB/s eta 0:00:01\r",
      "\u001b[K     |███████████████████████         | 706 kB 30.4 MB/s eta 0:00:01\r",
      "\u001b[K     |███████████████████████▍        | 716 kB 30.4 MB/s eta 0:00:01\r",
      "\u001b[K     |███████████████████████▊        | 727 kB 30.4 MB/s eta 0:00:01\r",
      "\u001b[K     |████████████████████████        | 737 kB 30.4 MB/s eta 0:00:01\r",
      "\u001b[K     |████████████████████████▍       | 747 kB 30.4 MB/s eta 0:00:01\r",
      "\u001b[K     |████████████████████████▊       | 757 kB 30.4 MB/s eta 0:00:01\r",
      "\u001b[K     |█████████████████████████       | 768 kB 30.4 MB/s eta 0:00:01\r",
      "\u001b[K     |█████████████████████████▍      | 778 kB 30.4 MB/s eta 0:00:01\r",
      "\u001b[K     |█████████████████████████▊      | 788 kB 30.4 MB/s eta 0:00:01\r",
      "\u001b[K     |██████████████████████████      | 798 kB 30.4 MB/s eta 0:00:01\r",
      "\u001b[K     |██████████████████████████▍     | 808 kB 30.4 MB/s eta 0:00:01\r",
      "\u001b[K     |██████████████████████████▊     | 819 kB 30.4 MB/s eta 0:00:01\r",
      "\u001b[K     |███████████████████████████     | 829 kB 30.4 MB/s eta 0:00:01\r",
      "\u001b[K     |███████████████████████████▍    | 839 kB 30.4 MB/s eta 0:00:01\r",
      "\u001b[K     |███████████████████████████▊    | 849 kB 30.4 MB/s eta 0:00:01\r",
      "\u001b[K     |████████████████████████████    | 860 kB 30.4 MB/s eta 0:00:01\r",
      "\u001b[K     |████████████████████████████▍   | 870 kB 30.4 MB/s eta 0:00:01\r",
      "\u001b[K     |████████████████████████████▊   | 880 kB 30.4 MB/s eta 0:00:01\r",
      "\u001b[K     |█████████████████████████████   | 890 kB 30.4 MB/s eta 0:00:01\r",
      "\u001b[K     |█████████████████████████████▍  | 901 kB 30.4 MB/s eta 0:00:01\r",
      "\u001b[K     |█████████████████████████████▊  | 911 kB 30.4 MB/s eta 0:00:01\r",
      "\u001b[K     |██████████████████████████████  | 921 kB 30.4 MB/s eta 0:00:01\r",
      "\u001b[K     |██████████████████████████████▍ | 931 kB 30.4 MB/s eta 0:00:01\r",
      "\u001b[K     |██████████████████████████████▊ | 942 kB 30.4 MB/s eta 0:00:01\r",
      "\u001b[K     |███████████████████████████████ | 952 kB 30.4 MB/s eta 0:00:01\r",
      "\u001b[K     |███████████████████████████████▍| 962 kB 30.4 MB/s eta 0:00:01\r",
      "\u001b[K     |███████████████████████████████▊| 972 kB 30.4 MB/s eta 0:00:01\r",
      "\u001b[K     |████████████████████████████████| 981 kB 30.4 MB/s \n",
      "\u001b[?25hRequirement already satisfied: six in /usr/local/lib/python3.7/dist-packages (from langdetect) (1.15.0)\n",
      "Building wheels for collected packages: langdetect\n",
      "  Building wheel for langdetect (setup.py) ... \u001b[?25l\u001b[?25hdone\n",
      "  Created wheel for langdetect: filename=langdetect-1.0.9-py3-none-any.whl size=993242 sha256=8a951d71443baf35ba2fc95549b93e6ee0d8e21834416488539367cc7d8453c2\n",
      "  Stored in directory: /root/.cache/pip/wheels/c5/96/8a/f90c59ed25d75e50a8c10a1b1c2d4c402e4dacfa87f3aff36a\n",
      "Successfully built langdetect\n",
      "Installing collected packages: langdetect\n",
      "Successfully installed langdetect-1.0.9\n"
     ]
    }
   ],
   "source": [
    "# import packages: \n",
    "import pandas as pd\n",
    "import re\n",
    "import nltk\n",
    "import numpy as np\n",
    "import random\n",
    "from tqdm import tqdm\n",
    "!pip install langdetect\n",
    "from langdetect import detect\n",
    "import torch\n",
    "import pandas as pd\n",
    "from collections import Counter\n",
    "import torch\n",
    "import torch.nn as nn\n",
    "from torch import nn, optim\n",
    "from torch.utils.data import DataLoader\n",
    "import torch.nn.functional as F\n",
    "from torch.distributions import Categorical\n",
    "from tqdm import tqdm\n",
    "from random import sample"
   ]
  },
  {
   "cell_type": "markdown",
   "metadata": {},
   "source": [
    "## Obtain data and preprocess: "
   ]
  },
  {
   "cell_type": "code",
   "execution_count": 3,
   "metadata": {
    "colab": {
     "base_uri": "https://localhost:8080/"
    },
    "id": "aHqQg0diqc_h",
    "outputId": "04d745d8-8ded-405e-f242-c7985ad37172"
   },
   "outputs": [
    {
     "name": "stderr",
     "output_type": "stream",
     "text": [
      "/usr/local/lib/python3.7/dist-packages/ipykernel_launcher.py:8: SettingWithCopyWarning: \n",
      "A value is trying to be set on a copy of a slice from a DataFrame.\n",
      "Try using .loc[row_indexer,col_indexer] = value instead\n",
      "\n",
      "See the caveats in the documentation: https://pandas.pydata.org/pandas-docs/stable/user_guide/indexing.html#returning-a-view-versus-a-copy\n",
      "  \n"
     ]
    }
   ],
   "source": [
    "# upload data:\n",
    "data = pd.read_parquet('metrolyrics.parquet', engine='auto')\n",
    "\n",
    "# Choose only rock and country genres: \n",
    "Rock_country = data[data['genre'].isin(['Rock','Country'])]\n",
    "\n",
    "# Add a symbol for song end\n",
    "Rock_country['lyrics'] = Rock_country['lyrics'] + ' #'"
   ]
  },
  {
   "cell_type": "code",
   "execution_count": 4,
   "metadata": {
    "id": "q7q0Pnqjqc_i"
   },
   "outputs": [],
   "source": [
    "# using the function detect from langdetect package we can detect the languge and then filter out non english songs: \n",
    "song_languages = Rock_country.apply(lambda row: detect(row['sent']), axis=1) # slow function... \n",
    "\n",
    "song_languages.name = 'language'\n",
    "\n",
    "# merge song \n",
    "Rock_country = pd.merge(Rock_country, song_languages, right_index = True,\n",
    "               left_index = True)\n",
    "\n",
    "# filter out all non english songs: \n",
    "Rock_country = Rock_country[Rock_country['language'] == 'en']\n"
   ]
  },
  {
   "cell_type": "code",
   "execution_count": null,
   "metadata": {
    "colab": {
     "base_uri": "https://localhost:8080/",
     "height": 142
    },
    "id": "N1gzkw-xqc_j",
    "outputId": "bef91936-b1cd-458e-ce62-eca55d14a7c8"
   },
   "outputs": [],
   "source": [
    "# Pre Process the data: remove non integer/char, replace \\n with , lower chars.  \n",
    "Rock_country_text = Rock_country['lyrics'].str.cat(sep='\\n').lower().replace('\\n',', ')\n",
    "Rock_country_text = re.sub(r'(\\[[^]]*\\])', '', Rock_country_text)\n",
    "Rock_country_text = re.sub(r',,', ',', Rock_country_text)\n",
    "Rock_country_text = re.sub(r'[^a-zA-Z0-9 ,#]', '', Rock_country_text)\n",
    "Rock_country_text = re.sub(r'\\,[^,]*chorus.*?\\,', '', Rock_country_text)\n",
    "Rock_country_text"
   ]
  },
  {
   "cell_type": "code",
   "execution_count": null,
   "metadata": {
    "colab": {
     "base_uri": "https://localhost:8080/"
    },
    "id": "nHGRICA_kCAJ",
    "outputId": "108843db-8971-48ca-82e2-eb7ef1183a44"
   },
   "outputs": [],
   "source": [
    "# define end of song with symbol '#': \n",
    "songs = Rock_country_text.split('#, ')\n",
    "songs = [song+'#' for song in songs]\n",
    "songs"
   ]
  },
  {
   "cell_type": "markdown",
   "metadata": {},
   "source": [
    "## Define RNN model:"
   ]
  },
  {
   "cell_type": "code",
   "execution_count": 7,
   "metadata": {
    "id": "PBXJJS3DHBVj"
   },
   "outputs": [],
   "source": [
    "# Define Rnn with LSTM: \n",
    "class RNN(nn.Module):\n",
    "    def __init__(self, input_size, output_size, hidden_size, num_layers):\n",
    "        super(RNN, self).__init__()\n",
    "        self.embedding = nn.Embedding(input_size, input_size)\n",
    "        self.rnn = nn.LSTM(input_size=input_size, hidden_size=hidden_size, num_layers=num_layers)\n",
    "        self.decoder = nn.Linear(hidden_size, output_size)\n",
    "    \n",
    "    def forward(self, input_seq, hidden_state):\n",
    "        embedding = self.embedding(input_seq)\n",
    "        output, hidden_state = self.rnn(embedding, hidden_state)\n",
    "        output = self.decoder(output)\n",
    "        return output, (hidden_state[0].detach(), hidden_state[1].detach())\n",
    "    "
   ]
  },
  {
   "cell_type": "code",
   "execution_count": 8,
   "metadata": {
    "id": "XYJqx8d2Zqel"
   },
   "outputs": [],
   "source": [
    "device = torch.device(\"cuda:0\" if torch.cuda.is_available() else \"cpu\")"
   ]
  },
  {
   "cell_type": "markdown",
   "metadata": {},
   "source": [
    "### Define helper functions for converting and printing outputs:"
   ]
  },
  {
   "cell_type": "code",
   "execution_count": 26,
   "metadata": {
    "id": "N2SNbCis1OKb"
   },
   "outputs": [],
   "source": [
    "# helper function: converts data from cjar to ind and tensor: \n",
    "def convert_data(data):    \n",
    "    # convert data from chars to indices\n",
    "    data = list(data)\n",
    "    for i, ch in enumerate(data):\n",
    "        data[i] = char_to_ix[ch]\n",
    "    # data tensor on device\n",
    "    data = torch.tensor(data).to(device)\n",
    "    return torch.unsqueeze(data, dim=1)\n",
    "\n",
    "# helper function that generates sequance from RNN model (applied after each epoch)\n",
    "\n",
    "# sample / generate a text sequence after every epoch\n",
    "def sample_seq(data):\n",
    "    data = convert_data(data)\n",
    "    data_size = len(data)\n",
    "    data_ptr = 0\n",
    "    hidden_state = None\n",
    "\n",
    "    # random character from data to begin\n",
    "    rand_index = np.random.randint(data_size-1)\n",
    "    input_seq = data[rand_index : rand_index+1]\n",
    "\n",
    "    print(\"----------------------------------------\")\n",
    "    while True:\n",
    "        # forward pass\n",
    "        output, hidden_state = rnn(input_seq, hidden_state)\n",
    "\n",
    "        # construct categorical distribution and sample a character\n",
    "        output = F.softmax(torch.squeeze(output), dim=0)\n",
    "        dist = Categorical(output)\n",
    "        index = dist.sample()\n",
    "        char = ix_to_char[index.item()]\n",
    "        # print the sampled character\n",
    "        print(char, end='')\n",
    "\n",
    "        # next input is current output\n",
    "        input_seq[0][0] = index.item()\n",
    "        data_ptr += 1\n",
    "\n",
    "        if data_ptr > op_seq_len or char == '#':\n",
    "            break\n",
    "\n",
    "    print(\"\\n----------------------------------------\")"
   ]
  },
  {
   "cell_type": "markdown",
   "metadata": {},
   "source": [
    "## Train RNN model and print a sample after each epoch: "
   ]
  },
  {
   "cell_type": "code",
   "execution_count": null,
   "metadata": {
    "colab": {
     "base_uri": "https://localhost:8080/"
    },
    "id": "-dsKsd_8kCAK",
    "outputId": "f1029e50-8068-42cd-8301-ac3da590a276"
   },
   "outputs": [],
   "source": [
    "########### Hyperparameters ###########\n",
    "hidden_size = 256   # size of hidden state\n",
    "seq_len = 50       # length of LSTM sequence\n",
    "num_layers = 4      # num of layers in LSTM layer stack\n",
    "lr = 0.001          # learning rate\n",
    "epochs = 10        # max number of epochs\n",
    "op_seq_len = 1000    # total num of characters in output test sequence\n",
    "#######################################\n",
    "\n",
    "# Get cha vocab and size: \n",
    "chars = sorted(list(set(Rock_country_text)))\n",
    "vocab_size = len(chars)\n",
    "\n",
    "# char to index and index to char maps\n",
    "char_to_ix = { ch:i for i,ch in enumerate(chars) }\n",
    "ix_to_char = { i:ch for i,ch in enumerate(chars) }\n",
    "\n",
    "# model instance\n",
    "rnn = RNN(vocab_size, vocab_size, hidden_size, num_layers).to(device)\n",
    "\n",
    "# loss function and optimizer\n",
    "loss_fn = nn.CrossEntropyLoss()\n",
    "optimizer = torch.optim.Adam(rnn.parameters(), lr=lr)\n",
    "\n",
    "# choose 3000 random songs for train set: \n",
    "songs_train = random.sample(songs, 3000)\n",
    "  \n",
    "# training loop\n",
    "for i_epoch in range(1, epochs+1):\n",
    "    for data in tqdm(songs_train):\n",
    "\n",
    "        data_size = len(data)\n",
    "        data = convert_data(data)\n",
    "\n",
    "        # random starting point (1st 100 chars) from data to begin\n",
    "        data_ptr = 0\n",
    "        n = 0\n",
    "        running_loss = 0\n",
    "        hidden_state = None\n",
    "\n",
    "        last_time = False\n",
    "\n",
    "        while True:  \n",
    "\n",
    "            # when getting to the end of the lyrics, choose the last seq_len of the lyrics to learn to output '#' \n",
    "            if last_time == True:\n",
    "                input_seq = data[-1 - seq_len:-1]\n",
    "                target_seq = data[-1 - seq_len + 1:]\n",
    "            else: \n",
    "                input_seq = data[data_ptr : data_ptr+seq_len]\n",
    "                target_seq = data[data_ptr+1 : data_ptr+seq_len+1]\n",
    "           \n",
    "            # forward pass\n",
    "            output, hidden_state = rnn(input_seq, hidden_state)\n",
    "\n",
    "            # compute loss\n",
    "            loss = loss_fn(torch.squeeze(output), torch.squeeze(target_seq))\n",
    "            running_loss += loss.item()\n",
    "\n",
    "            # compute gradients and take optimizer step\n",
    "            optimizer.zero_grad()\n",
    "            loss.backward()\n",
    "            optimizer.step()\n",
    "\n",
    "            # update the data pointer\n",
    "            data_ptr += seq_len\n",
    "            n +=1\n",
    "\n",
    "            if last_time == True:\n",
    "              break\n",
    "\n",
    "            # if at end of data : break\n",
    "            if data_ptr + seq_len + 1 > data_size:\n",
    "                last_time = True\n",
    "  # print loss and save weights after every epoch\n",
    "    print(\"Epoch: {0} \\t Loss: {1:.8f}\".format(i_epoch, running_loss/n)) \n",
    "\n",
    "    # After each epoch, generate a lyrics: \n",
    "    songs_test = random.sample(songs, 1)[0]\n",
    "    sample_seq(songs_test)"
   ]
  },
  {
   "cell_type": "code",
   "execution_count": 60,
   "metadata": {
    "colab": {
     "base_uri": "https://localhost:8080/"
    },
    "id": "zKhcXKOSPd0j",
    "outputId": "c71ae938-8574-429d-b6aa-bf55116b8549"
   },
   "outputs": [
    {
     "name": "stdout",
     "output_type": "stream",
     "text": [
      "----------------------------------------\n",
      "ow i feel a climbet in hirrore, it all werent happiness, work my wind im last shes gonna need and make me catch hammer, you made so brain, we got serucnoch my deep right for all bring, cause its no lips of no more, you take me town, aint seen the heart, a humble and some yivered says here to me #\n",
      "----------------------------------------\n",
      "----------------------------------------\n",
      "ally and papped being harm and books, sense before ass criver, i was found too hold of all ive been here, rollin up yeah, i was start around mystarrlo  man just try to sin tii the things i say, what a filed burnin way here still got to make me eas other adore, and the honeys do my soul, kiss, you dont know to la fly, rain, oh all, cause plastin no one seed throws to first #\n",
      "----------------------------------------\n",
      "----------------------------------------\n",
      "drink addicts on twee, there should wait to the rirdy now, and i dont want myself, take at the good time, well, it was a pain right away for yesterday just to my pressurence to the chip, cause the rest is a kind of toys, the sun mad a hard, all bastanny treep, and ive done and previc in music neverse, whos gonna kiss, i knew, who wont hear you baby becausion, i know i love you held, scream on the rain, the line of round in this morning trive, blowin your moon beer, tal by standin on, they couldnt eate today is dead me in, now why i hate well, theres a river mark upon your life, gettin deadlas rodeo #\n",
      "----------------------------------------\n",
      "----------------------------------------\n",
      "ot and realison what ive become berredeeriuds, shining in the cam me away, on the rain cames, sister destement troubles, like im walking by suck your traits its just lays up and i aint goin alive, the beun timed to te trynow, something that suversate skies, in hogpal, youre speaking so easy, whoperage, yiristed hose but by the sky, now touch for sucker that were filling out old hat, turns the sky, at the bus you go under you, i can fron us, im wakin over out today, you shared myself see, how dont give up at lettin roll, and you say its fine, im kickin and kicked gonna find to losit me, lying around, girls in mind, where voiced before, women at the strandle clear, woide kills for me, dips drawdyen, babe just could ranch fod me, has tell me so much line, jam this morn on the wame camels on the room this makes to the fire, get me playtn i got my mouth of it your soul, dont forget nowhere, coming turning was gap lady, now into a strace i cut forgive i told no hurt didnt warn it up, the boys\n",
      "----------------------------------------\n",
      "----------------------------------------\n",
      "ife surprised my dead plans, behind me witcho, hmd or you got me crazy, i never pastic your sorrow has to make a give out now, , either time to send it, to agmun with our state yold, i say no mattler, believe to city back at these fast, theres need me the kind, a mess, the hammer is crowds of guts, not like the shurfloals, dance, she just fool up, walkin home, how can i see the schengin fooght for me, behind the follomes all as sater in love with you, when that much fines who, love is you then spalked away, now it aint crossin, what i got time to come to you deep, no, no, thats for, sometimitor, used to say just a filcinused great cabo of temp fox you trip im gonna have to ask, i got it all train brother lovevops, we can singa dah is conside, you could follow a goin, come a slowliny night, with stummaily of the sweeting tied with niguren, get watton way, every count of you, can a bird wife, its a woman pleaserpeim like remind, do you rather town, we compro as theyre cupp gonna just wake\n",
      "----------------------------------------\n",
      "----------------------------------------\n",
      "wniars throts up has trittlin race, got the thiefs let it go, are it coolin it up, theres a song, darlin harm, we took to the earth your own pain, leave me but stankin on, lay me fave the power that flaked young, though the afters three chicks, now stands at their traif, wake up, prove my man im gettin onto you baby, ever began your fruniisuw lifes, when i ratter die the wrong cloude, girl that i have of wastion to come you to, who i walk she start the news he just calls me down, she wake up, he guess to shelted, when its head his rail a rider youd still want to put a wondor one more highway, take a suck and i got to fight, hard trapers, touching my bable eng, stuckin through and on the rest, yeah, the cupalibar, i see you gennatle the walls, the sunshine cripes, star queened weve watched this time of mindrodnin, work through the mornin raind, bor black smart this she syskes, when the rains all she came away, damper cannotal, women when i get empty through the city brighos dowors, id al\n",
      "----------------------------------------\n",
      "----------------------------------------\n",
      "nimotion, he knows worse to belong, what i get here, she waits down to harm as the perfectation boys and deep at the arms, all day, cause wait away too late, that rain is covers in loding back with golder groes you, how i think of a behtle #\n",
      "----------------------------------------\n",
      "----------------------------------------\n",
      "h, cry alive, well retron im a fine, pressiorings that was all that they guess, ill hold and say ago this lear, nobody goss to all the things you didnt stor, tonight stations you are all the tears we were 10 take to my sucker, you have in me whos closing down to jecole never give my back sad need you this heart #\n",
      "----------------------------------------\n",
      "----------------------------------------\n",
      "#\n",
      "----------------------------------------\n",
      "----------------------------------------\n",
      "thoughts, like our covered work a stars, atistens up, can see, so cool the spread evil, i lose my bloodin chicken, i say you may the brigham age, or live these localst bed spurphigar of feelins cause i lay goodbyessed and agop us, throwin pretty morning, oh, then i put the help to mind, kentucky little hands geven forgiving fear, pistom cross my door, sure go wrongin on hate now despece up time, on clumms, i plain on all i was like toboars, im right at the night this clothe stutness, way a shoulder hole make it even agriggevoud, for my soul, load, im telling my momma without the, pretty one tomorrow, i starved to stay and come alont instead of last about an christmas name, the flood was madops, wake christmas contruse, noise is mrords in this sheeck ya son, like a way down, everyday but tydalkg lately to roll on a hairtrat, i told that rest of trick and a wild, and sin where the way that west side, her love just would keep me here in the head is pretty dath with your memory, and yyou sa\n",
      "----------------------------------------\n",
      "----------------------------------------\n",
      " long agos the machate, in her ive given eyes, you say all night, only way too late through your fear to my wig, we watch we just say have seen i crowd, theyre, that toms some rairroly comes whos shandlelry, and it aint thinkin it boys what you do, save me with the station, if we will have a good time, theres the old car, gotta be #\n",
      "----------------------------------------\n",
      "----------------------------------------\n",
      "faded, goin back again, birlite agair, i was the best cold sonwroon, as this is a nall  kingcome, thrill has wakecopped you they come out, leads together, got, telling the sun did, where time goes out dit blue trail father, gettin on, road tricks, the one way roll with satter a lonely, the gatcers sweet choices breathin in this loud, oh commited fruw, you got me past me in the strength, like a suitconsy better heart, brother one, when youre breathing control, it takes up, handin my timp hace oh, oh, if i like today, ooh, oh and me, and i fear around, white finds i share came a prayer, i was on the world had gone lylin down, it has feelin my semit on my head comes down, should move out the stubbed blow out tight and mama i talked for the thirfy days, that were wide out youlch, walay no morst givin you, saw from the mlood the country, pretestince, symbatcour was a scather way, cause she was hidden in the short, never brother the  hour #\n",
      "----------------------------------------\n",
      "----------------------------------------\n",
      "he feels and happy girl, and he can have that let with killermed side sidpless eyes, ball and truth when theres no they need to better be and hurt the cou looking through, makes it to that step babk horsible oper, has the beer of his chains, three to indidny holes, but i got through these could say thats whathings started, a later me outsons in love with you kisss me, brother meet a harm, and hammer the world to dance on, these sunny hamons come back to the though if i shint, do jise let me give the clown and line, and its the pictures time and then i got, i can have arent to bring sunshine #\n",
      "----------------------------------------\n",
      "----------------------------------------\n",
      "tike some highway, beavers the brome, hair sing over my knot, im gonna shake it and baby do, oh, blues rew wire out my half funny, go around to the war, the nauch old after pugp im your truth you see, take me trouble the silver trsess, and enough that sunsen truth was stopping what god was wont leave on these love you dare, youre right, even lost to you like you had to reind again, brother sound, just a face id listen, we are someone gray now, she needs to halfwown we make me feelin the misters, slipping down and blowdinhrool, we didnt care, round, cause now i can nothing to me weak and your commits time to me, beyo, dsanced to gyld in love with my name with daneslansly, down on the close, and relentten, at when it is love is comin towns, like this samin, sky up rumol, one last, domistal oversy, you say, cause you cant rewrive her walks of selfo guy, said aulogor to the drume, turn down to my soul, i dont know what its cause that old black alight, lust annid blowing within dristo, 16 by\n",
      "----------------------------------------\n",
      "----------------------------------------\n",
      "arm and you rape out, its a viseal been through disfoss, hot twenty where i look out what they fail, the firsts look away for ackin boys, if i could go home #\n",
      "----------------------------------------\n",
      "----------------------------------------\n",
      "ve just not seen this ambit prettition, a doin nail girls, hair, brator pockety when god and prayers lost black, its maz, here you turn all the time, when i couldnt see you a cellswote in my eyes, single crowd, it happins hair those, my babitin, it builds our bride, with you when you were the best free away, littre forever some men, mama young, come around and take down for another until theyd disoppy you crazy, and work our wakin wrape turning a tester another turi the day everything, tell a morning around, though about the sun, now im not old, he says, the answers and she sends their lie, little day work were roomin too easy, and it aint a beauty and he makes me feel she remembers wanting to sperk, for the places was wommas making on spark, thank a cappy performer, stanking at the words, wakin it to came already hole, crupplish up time to this lucky day, just preacox outside and met the wrong in a war #\n",
      "----------------------------------------\n",
      "----------------------------------------\n",
      "nd i gave your soul, step on the ground, try and up now, all temper at luck over throw youve gone, yeah, the way that secure in bedge a little little long kides the trouble wall, cause has taulaned in the marcii in me take lost filling, wabme even smiling your going threaks, at last mess, she could like to carry again, beaut come through the hot, out on thats watching the coryonce ruin now that was dreamin of, behind maybe i walk inside of what we find a wild, whos happy again, rather heart over, what they say its only, and fly each day cause jesus #\n",
      "----------------------------------------\n",
      "----------------------------------------\n",
      "heres no one but the parks walking down, you got real than youre just because its my fire bock, in kiss the sunshine, i dont not have is first burnin, just the flow where youve got his soul, with sound on your eleg ruthart there nalelct a clothes countin, that was, turn up, weve sweet her unday here been secribit, we ly green fayed, i know that we it lets be the flooows and momns, we werent eyes, it was all thrills thats up, boy the sunshine city, gonna with for some rain, we ever know, ive learned the sun, my rekoloises line, stop me highway, magic die, and fall, the broke say sitting sleep, a letter found, and he mapes dead shinory, remember but nobodys sitting through book, like it go out to the swazin from you cold drest 270 pappance is once that clothees blue touched, i say i was a station like only ious, so im slapplers to walk the clothes, only kinda take up by my baby line you say its in love, lovin me forever, ill have you to keep your eyes, forever granded about the traint pep\n",
      "----------------------------------------\n",
      "----------------------------------------\n",
      "h, a curtain wipe, we had a onto, ghy daddy were thinking too wordy to eat it by, i hope we dont, when it is igons and said he knows, i walk away for dangeration, its a merch bug on, open the fallows in the christ was my true, and search on is a sound, when the city tasted arollight, comin on sunshine my blue im worth us, some backs in jesuss yourself like a dog, none our time, shame we wave young past the sun phisems, babe, sit all those eyes off, and now silver laters, lost aver, secret poss, how our chiven #\n",
      "----------------------------------------\n",
      "----------------------------------------\n",
      "visitat, walls around me outwats, woo hookers stutch the grass, between the wall walking red tipse, beautiful freak, fillin wide that you were happy, well, its waiting for a pail #\n",
      "----------------------------------------\n"
     ]
    }
   ],
   "source": [
    "for i in range(20):\n",
    "  songs_test = random.sample(songs, 1)[0]\n",
    "  sample_seq(songs_test)"
   ]
  }
 ],
 "metadata": {
  "accelerator": "GPU",
  "anaconda-cloud": {},
  "colab": {
   "collapsed_sections": [],
   "name": "H_W_9_Text_Generation_3.ipynb",
   "provenance": []
  },
  "kernelspec": {
   "display_name": "Python 3",
   "language": "python",
   "name": "python3"
  },
  "language_info": {
   "codemirror_mode": {
    "name": "ipython",
    "version": 3
   },
   "file_extension": ".py",
   "mimetype": "text/x-python",
   "name": "python",
   "nbconvert_exporter": "python",
   "pygments_lexer": "ipython3",
   "version": "3.8.8"
  }
 },
 "nbformat": 4,
 "nbformat_minor": 1
}
